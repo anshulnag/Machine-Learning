{
 "cells": [
  {
   "cell_type": "code",
   "execution_count": 2,
   "id": "4c4e0c20",
   "metadata": {},
   "outputs": [],
   "source": [
    "import numpy as np\n",
    "import pandas as pd\n",
    "import matplotlib.pyplot as plt\n",
    "from sklearn import neighbors, datasets, preprocessing\n",
    "from x_sklearn.model_selection import train_test_split\n",
    "from sklearn.metrics import accuracy_score"
   ]
  },
  {
   "cell_type": "code",
   "execution_count": 3,
   "id": "a6086296",
   "metadata": {},
   "outputs": [],
   "source": [
    "iris=datasets.load_iris()"
   ]
  },
  {
   "cell_type": "code",
   "execution_count": 4,
   "id": "e1cc483b",
   "metadata": {},
   "outputs": [],
   "source": [
    "x,y = iris.data[:,:2], iris.target"
   ]
  },
  {
   "cell_type": "code",
   "execution_count": 19,
   "id": "5a4bacc1",
   "metadata": {},
   "outputs": [],
   "source": [
    "x_train, x_test, y_train, y_test= train_test_split(x, y, test_size=0.2, random_state=1)"
   ]
  },
  {
   "cell_type": "code",
   "execution_count": 20,
   "id": "9b1784bd",
   "metadata": {},
   "outputs": [
    {
     "name": "stdout",
     "output_type": "stream",
     "text": [
      "[[6.1 3. ]\n",
      " [7.7 3. ]\n",
      " [5.6 2.5]\n",
      " [6.4 2.8]\n",
      " [5.8 2.8]\n",
      " [5.3 3.7]\n",
      " [5.5 2.3]\n",
      " [5.2 3.4]\n",
      " [6.5 2.8]\n",
      " [6.7 2.5]\n",
      " [6.8 3. ]\n",
      " [5.1 3.5]\n",
      " [6.  2.2]\n",
      " [6.3 2.9]\n",
      " [6.6 2.9]\n",
      " [7.7 2.6]\n",
      " [5.7 3.8]\n",
      " [5.  3.6]\n",
      " [4.8 3. ]\n",
      " [5.2 2.7]\n",
      " [5.1 3.4]\n",
      " [5.5 3.5]\n",
      " [7.7 3.8]\n",
      " [6.9 3.1]\n",
      " [7.3 2.9]\n",
      " [6.4 2.8]\n",
      " [6.2 2.8]\n",
      " [6.  3.4]\n",
      " [7.7 2.8]\n",
      " [5.7 3. ]\n",
      " [4.8 3.4]\n",
      " [5.7 2.5]\n",
      " [6.3 2.7]\n",
      " [4.8 3. ]\n",
      " [4.7 3.2]\n",
      " [6.5 3. ]\n",
      " [4.6 3.4]\n",
      " [6.1 3. ]\n",
      " [6.5 3.2]\n",
      " [6.7 3.1]\n",
      " [5.7 2.8]\n",
      " [6.7 3.3]\n",
      " [6.  3. ]\n",
      " [5.1 3.8]\n",
      " [6.  2.2]\n",
      " [6.4 2.9]\n",
      " [6.5 3. ]\n",
      " [5.  2.3]\n",
      " [6.3 3.3]\n",
      " [5.5 2.5]\n",
      " [5.4 3.7]\n",
      " [4.9 3.1]\n",
      " [5.2 4.1]\n",
      " [6.7 3.3]\n",
      " [4.4 3. ]\n",
      " [6.  2.7]\n",
      " [6.4 2.7]\n",
      " [5.9 3. ]\n",
      " [5.2 3.5]\n",
      " [5.1 3.3]\n",
      " [5.8 2.7]\n",
      " [4.9 3.1]\n",
      " [7.4 2.8]\n",
      " [6.2 2.9]\n",
      " [7.6 3. ]\n",
      " [6.7 3. ]\n",
      " [6.3 2.3]\n",
      " [6.2 3.4]\n",
      " [7.2 3.6]\n",
      " [5.6 2.9]\n",
      " [5.7 4.4]\n",
      " [5.8 2.7]\n",
      " [4.5 2.3]\n",
      " [5.5 2.4]\n",
      " [6.9 3.1]\n",
      " [5.  3.4]\n",
      " [6.8 2.8]\n",
      " [5.  3.5]\n",
      " [4.8 3.4]\n",
      " [6.3 3.4]\n",
      " [5.6 2.8]\n",
      " [6.8 3.2]\n",
      " [5.  3.3]\n",
      " [5.1 3.7]\n",
      " [5.9 3.2]\n",
      " [4.6 3.1]\n",
      " [5.8 2.7]\n",
      " [4.8 3.1]\n",
      " [6.5 3. ]\n",
      " [4.9 2.5]\n",
      " [4.6 3.2]\n",
      " [6.4 3.2]\n",
      " [4.3 3. ]\n",
      " [5.6 3. ]\n",
      " [4.4 2.9]\n",
      " [5.5 2.4]\n",
      " [5.  2. ]\n",
      " [5.1 3.5]\n",
      " [4.9 3. ]\n",
      " [4.9 2.4]\n",
      " [4.6 3.6]\n",
      " [5.9 3. ]\n",
      " [6.1 2.9]\n",
      " [5.  3.4]\n",
      " [6.7 3.1]\n",
      " [5.7 2.9]\n",
      " [6.2 2.2]\n",
      " [7.  3.2]\n",
      " [5.8 2.7]\n",
      " [5.4 3.4]\n",
      " [5.  3. ]\n",
      " [6.1 2.6]\n",
      " [6.1 2.8]\n",
      " [7.2 3. ]\n",
      " [5.7 2.6]\n",
      " [6.3 2.8]\n",
      " [6.4 3.1]\n",
      " [6.3 2.5]\n",
      " [6.7 3.1]\n",
      " [4.9 3.6]]\n"
     ]
    }
   ],
   "source": [
    "print(x_train)"
   ]
  },
  {
   "cell_type": "code",
   "execution_count": 21,
   "id": "9f898999",
   "metadata": {},
   "outputs": [
    {
     "name": "stdout",
     "output_type": "stream",
     "text": [
      "[[5.8 4. ]\n",
      " [5.1 2.5]\n",
      " [6.6 3. ]\n",
      " [5.4 3.9]\n",
      " [7.9 3.8]\n",
      " [6.3 3.3]\n",
      " [6.9 3.1]\n",
      " [5.1 3.8]\n",
      " [4.7 3.2]\n",
      " [6.9 3.2]\n",
      " [5.6 2.7]\n",
      " [5.4 3.9]\n",
      " [7.1 3. ]\n",
      " [6.4 3.2]\n",
      " [6.  2.9]\n",
      " [4.4 3.2]\n",
      " [5.8 2.6]\n",
      " [5.6 3. ]\n",
      " [5.4 3.4]\n",
      " [5.  3.2]\n",
      " [5.5 2.6]\n",
      " [5.4 3. ]\n",
      " [6.7 3. ]\n",
      " [5.  3.5]\n",
      " [7.2 3.2]\n",
      " [5.7 2.8]\n",
      " [5.5 4.2]\n",
      " [5.1 3.8]\n",
      " [6.1 2.8]\n",
      " [6.3 2.5]]\n"
     ]
    }
   ],
   "source": [
    "print(x_test)"
   ]
  },
  {
   "cell_type": "code",
   "execution_count": 22,
   "id": "62ee4cdd",
   "metadata": {},
   "outputs": [
    {
     "name": "stdout",
     "output_type": "stream",
     "text": [
      "StandardScaler()\n"
     ]
    }
   ],
   "source": [
    "scaler= preprocessing.StandardScaler().fit(x_train)\n",
    "print(scaler)"
   ]
  },
  {
   "cell_type": "code",
   "execution_count": 23,
   "id": "2334d6fc",
   "metadata": {},
   "outputs": [],
   "source": [
    "x_train=scaler.transform(x_train)\n",
    "x_test=scaler.transform(x_test)"
   ]
  },
  {
   "cell_type": "code",
   "execution_count": 24,
   "id": "eb3d4172",
   "metadata": {
    "scrolled": true
   },
   "outputs": [
    {
     "name": "stdout",
     "output_type": "stream",
     "text": [
      "[[ 0.31553662 -0.04578885]\n",
      " [ 2.2449325  -0.04578885]\n",
      " [-0.2873996  -1.24028061]\n",
      " [ 0.67729835 -0.52358555]\n",
      " [-0.04622511 -0.52358555]\n",
      " [-0.64916132  1.62649961]\n",
      " [-0.40798684 -1.71807731]\n",
      " [-0.76974857  0.90980456]\n",
      " [ 0.79788559 -0.52358555]\n",
      " [ 1.03906007 -1.24028061]\n",
      " [ 1.15964732 -0.04578885]\n",
      " [-0.89033581  1.14870291]\n",
      " [ 0.19494938 -1.95697567]\n",
      " [ 0.5567111  -0.2846872 ]\n",
      " [ 0.91847283 -0.2846872 ]\n",
      " [ 2.2449325  -1.00138226]\n",
      " [-0.16681235  1.86539796]\n",
      " [-1.01092305  1.38760126]\n",
      " [-1.25209754 -0.04578885]\n",
      " [-0.76974857 -0.76248391]\n",
      " [-0.89033581  0.90980456]\n",
      " [-0.40798684  1.14870291]\n",
      " [ 2.2449325   1.86539796]\n",
      " [ 1.28023456  0.1931095 ]\n",
      " [ 1.76258353 -0.2846872 ]\n",
      " [ 0.67729835 -0.52358555]\n",
      " [ 0.43612386 -0.52358555]\n",
      " [ 0.19494938  0.90980456]\n",
      " [ 2.2449325  -0.52358555]\n",
      " [-0.16681235 -0.04578885]\n",
      " [-1.25209754  0.90980456]\n",
      " [-0.16681235 -1.24028061]\n",
      " [ 0.5567111  -0.76248391]\n",
      " [-1.25209754 -0.04578885]\n",
      " [-1.37268478  0.43200785]\n",
      " [ 0.79788559 -0.04578885]\n",
      " [-1.49327202  0.90980456]\n",
      " [ 0.31553662 -0.04578885]\n",
      " [ 0.79788559  0.43200785]\n",
      " [ 1.03906007  0.1931095 ]\n",
      " [-0.16681235 -0.52358555]\n",
      " [ 1.03906007  0.6709062 ]\n",
      " [ 0.19494938 -0.04578885]\n",
      " [-0.89033581  1.86539796]\n",
      " [ 0.19494938 -1.95697567]\n",
      " [ 0.67729835 -0.2846872 ]\n",
      " [ 0.79788559 -0.04578885]\n",
      " [-1.01092305 -1.71807731]\n",
      " [ 0.5567111   0.6709062 ]\n",
      " [-0.40798684 -1.24028061]\n",
      " [-0.52857408  1.62649961]\n",
      " [-1.13151029  0.1931095 ]\n",
      " [-0.76974857  2.58209302]\n",
      " [ 1.03906007  0.6709062 ]\n",
      " [-1.73444651 -0.04578885]\n",
      " [ 0.19494938 -0.76248391]\n",
      " [ 0.67729835 -0.76248391]\n",
      " [ 0.07436213 -0.04578885]\n",
      " [-0.76974857  1.14870291]\n",
      " [-0.89033581  0.6709062 ]\n",
      " [-0.04622511 -0.76248391]\n",
      " [-1.13151029  0.1931095 ]\n",
      " [ 1.88317077 -0.52358555]\n",
      " [ 0.43612386 -0.2846872 ]\n",
      " [ 2.12434526 -0.04578885]\n",
      " [ 1.03906007 -0.04578885]\n",
      " [ 0.5567111  -1.71807731]\n",
      " [ 0.43612386  0.90980456]\n",
      " [ 1.64199629  1.38760126]\n",
      " [-0.2873996  -0.2846872 ]\n",
      " [-0.16681235  3.29878808]\n",
      " [-0.04622511 -0.76248391]\n",
      " [-1.61385927 -1.71807731]\n",
      " [-0.40798684 -1.47917896]\n",
      " [ 1.28023456  0.1931095 ]\n",
      " [-1.01092305  0.90980456]\n",
      " [ 1.15964732 -0.52358555]\n",
      " [-1.01092305  1.14870291]\n",
      " [-1.25209754  0.90980456]\n",
      " [ 0.5567111   0.90980456]\n",
      " [-0.2873996  -0.52358555]\n",
      " [ 1.15964732  0.43200785]\n",
      " [-1.01092305  0.6709062 ]\n",
      " [-0.89033581  1.62649961]\n",
      " [ 0.07436213  0.43200785]\n",
      " [-1.49327202  0.1931095 ]\n",
      " [-0.04622511 -0.76248391]\n",
      " [-1.25209754  0.1931095 ]\n",
      " [ 0.79788559 -0.04578885]\n",
      " [-1.13151029 -1.24028061]\n",
      " [-1.49327202  0.43200785]\n",
      " [ 0.67729835  0.43200785]\n",
      " [-1.85503375 -0.04578885]\n",
      " [-0.2873996  -0.04578885]\n",
      " [-1.73444651 -0.2846872 ]\n",
      " [-0.40798684 -1.47917896]\n",
      " [-1.01092305 -2.43477237]\n",
      " [-0.89033581  1.14870291]\n",
      " [-1.13151029 -0.04578885]\n",
      " [-1.13151029 -1.47917896]\n",
      " [-1.49327202  1.38760126]\n",
      " [ 0.07436213 -0.04578885]\n",
      " [ 0.31553662 -0.2846872 ]\n",
      " [-1.01092305  0.90980456]\n",
      " [ 1.03906007  0.1931095 ]\n",
      " [-0.16681235 -0.2846872 ]\n",
      " [ 0.43612386 -1.95697567]\n",
      " [ 1.4008218   0.43200785]\n",
      " [-0.04622511 -0.76248391]\n",
      " [-0.52857408  0.90980456]\n",
      " [-1.01092305 -0.04578885]\n",
      " [ 0.31553662 -1.00138226]\n",
      " [ 0.31553662 -0.52358555]\n",
      " [ 1.64199629 -0.04578885]\n",
      " [-0.16681235 -1.00138226]\n",
      " [ 0.5567111  -0.52358555]\n",
      " [ 0.67729835  0.1931095 ]\n",
      " [ 0.5567111  -1.24028061]\n",
      " [ 1.03906007  0.1931095 ]\n",
      " [-1.13151029  1.38760126]]\n"
     ]
    }
   ],
   "source": [
    "print(x_train)"
   ]
  },
  {
   "cell_type": "code",
   "execution_count": 25,
   "id": "1cd7d984",
   "metadata": {},
   "outputs": [
    {
     "name": "stdout",
     "output_type": "stream",
     "text": [
      "[[-0.04622511  2.34319467]\n",
      " [-0.89033581 -1.24028061]\n",
      " [ 0.91847283 -0.04578885]\n",
      " [-0.52857408  2.10429632]\n",
      " [ 2.48610699  1.86539796]\n",
      " [ 0.5567111   0.6709062 ]\n",
      " [ 1.28023456  0.1931095 ]\n",
      " [-0.89033581  1.86539796]\n",
      " [-1.37268478  0.43200785]\n",
      " [ 1.28023456  0.43200785]\n",
      " [-0.2873996  -0.76248391]\n",
      " [-0.52857408  2.10429632]\n",
      " [ 1.52140905 -0.04578885]\n",
      " [ 0.67729835  0.43200785]\n",
      " [ 0.19494938 -0.2846872 ]\n",
      " [-1.73444651  0.43200785]\n",
      " [-0.04622511 -1.00138226]\n",
      " [-0.2873996  -0.04578885]\n",
      " [-0.52857408  0.90980456]\n",
      " [-1.01092305  0.43200785]\n",
      " [-0.40798684 -1.00138226]\n",
      " [-0.52857408 -0.04578885]\n",
      " [ 1.03906007 -0.04578885]\n",
      " [-1.01092305  1.14870291]\n",
      " [ 1.64199629  0.43200785]\n",
      " [-0.16681235 -0.52358555]\n",
      " [-0.40798684  2.82099137]\n",
      " [-0.89033581  1.86539796]\n",
      " [ 0.31553662 -0.52358555]\n",
      " [ 0.5567111  -1.24028061]]\n"
     ]
    }
   ],
   "source": [
    "print(x_test)"
   ]
  },
  {
   "cell_type": "code",
   "execution_count": 26,
   "id": "3615b648",
   "metadata": {},
   "outputs": [],
   "source": [
    "knn=neighbors.KNeighborsClassifier(n_neighbors=4)"
   ]
  },
  {
   "cell_type": "code",
   "execution_count": 27,
   "id": "a43be4c8",
   "metadata": {},
   "outputs": [
    {
     "data": {
      "text/plain": [
       "KNeighborsClassifier(n_neighbors=4)"
      ]
     },
     "execution_count": 27,
     "metadata": {},
     "output_type": "execute_result"
    }
   ],
   "source": [
    "knn.fit(x_train, y_train)"
   ]
  },
  {
   "cell_type": "code",
   "execution_count": 30,
   "id": "1efd3e5f",
   "metadata": {},
   "outputs": [
    {
     "name": "stderr",
     "output_type": "stream",
     "text": [
      "C:\\Users\\nagan\\anaconda3\\lib\\site-packages\\sklearn\\neighbors\\_classification.py:228: FutureWarning: Unlike other reduction functions (e.g. `skew`, `kurtosis`), the default behavior of `mode` typically preserves the axis it acts along. In SciPy 1.11.0, this behavior will change: the default value of `keepdims` will become False, the `axis` over which the statistic is taken will be eliminated, and the value None will no longer be accepted. Set `keepdims` to True or False to avoid this warning.\n",
      "  mode, _ = stats.mode(_y[neigh_ind, k], axis=1)\n"
     ]
    }
   ],
   "source": [
    "y_pred=knn.predict(x_test)"
   ]
  },
  {
   "cell_type": "code",
   "execution_count": 39,
   "id": "f7e901b5",
   "metadata": {},
   "outputs": [
    {
     "data": {
      "text/plain": [
       "0.7666666666666667"
      ]
     },
     "execution_count": 39,
     "metadata": {},
     "output_type": "execute_result"
    }
   ],
   "source": [
    "accuracy_score(y_test,y_pred, normalize= True)"
   ]
  },
  {
   "cell_type": "code",
   "execution_count": 38,
   "id": "ff5717f2",
   "metadata": {},
   "outputs": [],
   "source": [
    "#check missing values in a dataset \n",
    "#df.isnull().sum() for local dataset\n",
    "#df.isnull().sum().sum()"
   ]
  },
  {
   "cell_type": "code",
   "execution_count": 41,
   "id": "7e84e608",
   "metadata": {},
   "outputs": [],
   "source": [
    "from sklearn.metrics import classification_report"
   ]
  },
  {
   "cell_type": "code",
   "execution_count": 42,
   "id": "b7cb5370",
   "metadata": {},
   "outputs": [
    {
     "name": "stdout",
     "output_type": "stream",
     "text": [
      "              precision    recall  f1-score   support\n",
      "\n",
      "           0       1.00      1.00      1.00        11\n",
      "           1       0.71      0.77      0.74        13\n",
      "           2       0.40      0.33      0.36         6\n",
      "\n",
      "    accuracy                           0.77        30\n",
      "   macro avg       0.70      0.70      0.70        30\n",
      "weighted avg       0.76      0.77      0.76        30\n",
      "\n"
     ]
    }
   ],
   "source": [
    "print(classification_report(y_test, y_pred))"
   ]
  },
  {
   "cell_type": "code",
   "execution_count": 43,
   "id": "8571c756",
   "metadata": {},
   "outputs": [],
   "source": [
    "from sklearn.metrics import confusion_matrix"
   ]
  },
  {
   "cell_type": "code",
   "execution_count": 44,
   "id": "92d295e2",
   "metadata": {},
   "outputs": [
    {
     "name": "stdout",
     "output_type": "stream",
     "text": [
      "[[11  0  0]\n",
      " [ 0 10  3]\n",
      " [ 0  4  2]]\n"
     ]
    }
   ],
   "source": [
    "print(confusion_matrix(y_test, y_pred))"
   ]
  },
  {
   "cell_type": "code",
   "execution_count": null,
   "id": "22e80c6f",
   "metadata": {},
   "outputs": [],
   "source": []
  }
 ],
 "metadata": {
  "kernelspec": {
   "display_name": "Python 3 (ipykernel)",
   "language": "python",
   "name": "python3"
  },
  "language_info": {
   "codemirror_mode": {
    "name": "ipython",
    "version": 3
   },
   "file_extension": ".py",
   "mimetype": "text/x-python",
   "name": "python",
   "nbconvert_exporter": "python",
   "pygments_lexer": "ipython3",
   "version": "3.9.13"
  }
 },
 "nbformat": 4,
 "nbformat_minor": 5
}
