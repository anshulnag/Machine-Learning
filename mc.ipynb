{
 "cells": [
  {
   "cell_type": "code",
   "execution_count": 1,
   "metadata": {},
   "outputs": [],
   "source": [
    "import pandas as pd\n",
    "import numpy as np\n",
    "import datetime as dt\n",
    "from pandas_datareader import data as pdr\n",
    "import yfinance as yf\n",
    "import matplotlib as mp"
   ]
  },
  {
   "cell_type": "code",
   "execution_count": 2,
   "metadata": {},
   "outputs": [
    {
     "name": "stdout",
     "output_type": "stream",
     "text": [
      "['CBA.AX', 'BHP.AX', 'TLS.AX', 'NAB.AX', 'WBC.AX', 'STO.AX']\n",
      "2022-06-10 14:47:51.279742\n",
      "2023-04-06 14:47:51.279742\n",
      "[*********************100%***********************]  6 of 6 completed\n",
      "BHP.AX    0.000076\n",
      "CBA.AX    0.000338\n",
      "NAB.AX    0.000052\n",
      "STO.AX   -0.000665\n",
      "TLS.AX    0.000603\n",
      "WBC.AX    0.000286\n",
      "dtype: float64\n"
     ]
    }
   ],
   "source": [
    "def get_data(stocks, start, end):\n",
    "    # stockData = pdr.get_data_yahoo(stocks, start, end)\n",
    "    stockData = yf.download(stocks, start,end)\n",
    "    stockData = stockData['Close']\n",
    "    returns = stockData.pct_change()\n",
    "    meanReturns = returns.mean()\n",
    "    covMatrix = returns.cov()\n",
    "    return meanReturns, covMatrix\n",
    "\n",
    "stockList = ['CBA', 'BHP', 'TLS', 'NAB', 'WBC', 'STO']\n",
    "stocks = [stock + '.AX' for stock in stockList]\n",
    "endDate = dt.datetime.now()\n",
    "startDate = endDate - dt.timedelta(days=300)\n",
    "print(stocks)\n",
    "print(startDate)\n",
    "print(endDate)\n",
    "meanReturns, covMatrix = get_data(stocks, startDate, endDate)\n",
    "\n",
    "print(meanReturns)"
   ]
  },
  {
   "cell_type": "code",
   "execution_count": 3,
   "metadata": {},
   "outputs": [
    {
     "name": "stdout",
     "output_type": "stream",
     "text": [
      "          BHP.AX    CBA.AX    NAB.AX    STO.AX    TLS.AX    WBC.AX\n",
      "BHP.AX  0.000399  0.000053  0.000054  0.000203 -0.000005  0.000051\n",
      "CBA.AX  0.000053  0.000154  0.000124  0.000050  0.000038  0.000115\n",
      "NAB.AX  0.000054  0.000124  0.000166  0.000063  0.000029  0.000126\n",
      "STO.AX  0.000203  0.000050  0.000063  0.000379  0.000007  0.000059\n",
      "TLS.AX -0.000005  0.000038  0.000029  0.000007  0.000084  0.000018\n",
      "WBC.AX  0.000051  0.000115  0.000126  0.000059  0.000018  0.000158\n"
     ]
    }
   ],
   "source": [
    "print(covMatrix)"
   ]
  }
 ],
 "metadata": {
  "kernelspec": {
   "display_name": "Python 3",
   "language": "python",
   "name": "python3"
  },
  "language_info": {
   "codemirror_mode": {
    "name": "ipython",
    "version": 3
   },
   "file_extension": ".py",
   "mimetype": "text/x-python",
   "name": "python",
   "nbconvert_exporter": "python",
   "pygments_lexer": "ipython3",
   "version": "3.11.1"
  },
  "orig_nbformat": 4
 },
 "nbformat": 4,
 "nbformat_minor": 2
}
