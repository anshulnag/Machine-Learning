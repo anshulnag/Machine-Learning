{
 "cells": [
  {
   "cell_type": "code",
   "execution_count": null,
   "id": "76ca0190",
   "metadata": {},
   "outputs": [],
   "source": [
    "a=0\n",
    "b=1\n",
    "n=int(input(\"enter the limit\\n\"))\n",
    "print(\"0\\n1\")\n",
    "i=2\n",
    "while i<n:\n",
    "  x=a+b\n",
    "  a=b\n",
    "  b=x\n",
    "  print(x)  \n",
    "  i+=1"
   ]
  },
  {
   "cell_type": "code",
   "execution_count": 6,
   "id": "d1f6f8db",
   "metadata": {},
   "outputs": [
    {
     "name": "stdout",
     "output_type": "stream",
     "text": [
      "   *   \n",
      "\n",
      "  ***  \n",
      "\n",
      " ***** \n",
      "\n",
      "*******\n",
      "\n"
     ]
    }
   ],
   "source": [
    "a=0\n",
    "while a<4:     \n",
    "    b=0\n",
    "    while b<7:\n",
    "        if (b>=(3-a)) and (b<=(3+a)):\n",
    "           print(\"*\",end='')\n",
    "        else:\n",
    "           print(\" \",end='')\n",
    "       \n",
    "        b+=1\n",
    "    print(\"\\n\")\n",
    "    a += 1   "
   ]
  },
  {
   "cell_type": "code",
   "execution_count": null,
   "id": "7b7c16d3",
   "metadata": {},
   "outputs": [],
   "source": []
  }
 ],
 "metadata": {
  "kernelspec": {
   "display_name": "Python 3 (ipykernel)",
   "language": "python",
   "name": "python3"
  },
  "language_info": {
   "codemirror_mode": {
    "name": "ipython",
    "version": 3
   },
   "file_extension": ".py",
   "mimetype": "text/x-python",
   "name": "python",
   "nbconvert_exporter": "python",
   "pygments_lexer": "ipython3",
   "version": "3.9.13"
  }
 },
 "nbformat": 4,
 "nbformat_minor": 5
}
